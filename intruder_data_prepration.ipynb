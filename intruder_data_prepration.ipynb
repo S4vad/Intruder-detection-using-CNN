{
  "cells": [
    {
      "cell_type": "code",
      "execution_count": null,
      "metadata": {
        "id": "99DdYYiVGyKB"
      },
      "outputs": [],
      "source": [
        "import pandas as pd\n",
        "import os\n",
        "import matplotlib.pyplot as plt\n",
        "from PIL import Image\n",
        "from keras.preprocessing.image import ImageDataGenerator"
      ]
    },
    {
      "cell_type": "code",
      "execution_count": 1,
      "metadata": {
        "id": "vBH758AMSNNs"
      },
      "outputs": [],
      "source": [
        "# from google.colab import drive\n",
        "# drive.mount('/content/drive')"
      ]
    },
    {
      "cell_type": "code",
      "execution_count": null,
      "metadata": {
        "colab": {
          "background_save": true
        },
        "id": "2uNUF25-Xc8n"
      },
      "outputs": [],
      "source": [
        "img=plt.imread('/content/drive/MyDrive/intruder_detection/images_of_intruder/inside/PXL_20230812_124835040.jpg')\n",
        "plt.imshow(img)"
      ]
    },
    {
      "cell_type": "code",
      "execution_count": null,
      "metadata": {
        "colab": {
          "background_save": true
        },
        "id": "oFgzn2pQZQev"
      },
      "outputs": [],
      "source": [
        "datagen=ImageDataGenerator(rotation_range=40,\n",
        "                           width_shift_range=0.2,\n",
        "                           height_shift_range=0.2,\n",
        "                           shear_range=0.2,\n",
        "                           zoom_range=0.2,\n",
        "                           horizontal_flip=True,\n",
        "                           fill_mode='nearest')"
      ]
    },
    {
      "cell_type": "code",
      "execution_count": null,
      "metadata": {
        "colab": {
          "background_save": true
        },
        "id": "elX1JHGpZXPf"
      },
      "outputs": [],
      "source": [
        "# for i in os.listdir('/content/drive/MyDrive/intruder_detection/images_of_intruder/inside/'):\n",
        "#   im_path='/content/drive/MyDrive/intruder_detection/images_of_intruder/inside/'+ i\n",
        "#   image=plt.imread(im_path)\n",
        "#   image=image.reshape(1,image.shape[0],image.shape[1],image.shape[2])\n",
        "\n",
        "\n",
        "#   if True:\n",
        "#     k=1\n",
        "#     for batch in datagen.flow(image,batch_size=1,\n",
        "#                                 save_to_dir='/content/drive/MyDrive/intruder_detection/augmented_images/inside',\n",
        "#                                 save_prefix='inside',\n",
        "#                                 save_format='jpg'):\n",
        "\n",
        "#       if k>5:\n",
        "#         break\n",
        "#       k+=1\n"
      ]
    },
    {
      "cell_type": "code",
      "execution_count": null,
      "metadata": {
        "colab": {
          "background_save": true
        },
        "id": "2O4TFtgObFH0"
      },
      "outputs": [],
      "source": [
        "# for i in os.listdir('/content/drive/MyDrive/intruder_detection/images_of_intruder/outside/'):\n",
        "#   im_path='/content/drive/MyDrive/intruder_detection/images_of_intruder/outside/'+ i\n",
        "#   image=plt.imread(im_path)\n",
        "#   image=image.reshape(1,image.shape[0],image.shape[1],image.shape[2])\n",
        "\n",
        "\n",
        "#   if True:\n",
        "#     k=1\n",
        "#     for batch in datagen.flow(image,batch_size=1,\n",
        "#                                 save_to_dir='/content/drive/MyDrive/intruder_detection/augmented_images/outside',\n",
        "#                                 save_prefix='outside',\n",
        "#                                 save_format='jpg'):\n",
        "\n",
        "#       if k>5:\n",
        "#         break\n",
        "#       k+=1\n"
      ]
    },
    {
      "cell_type": "code",
      "execution_count": null,
      "metadata": {
        "colab": {
          "background_save": true
        },
        "id": "XWNKQFLkSjcf"
      },
      "outputs": [],
      "source": [
        "filenamelist=[]\n",
        "label=[]\n",
        "for im in os.listdir('/content/drive/MyDrive/intruder_detection/images_of_intruder/inside/'):\n",
        "  image=Image.open('/content/drive/MyDrive/intruder_detection/images_of_intruder/inside/'+im)\n",
        "  resized=image.resize((500,500))\n",
        "  file_path='/content/drive/MyDrive/intruder_detection/resized/inside/'+im\n",
        "  filenamelist.append(file_path)\n",
        "  label.append(1)\n",
        "  resized.save(file_path)"
      ]
    },
    {
      "cell_type": "code",
      "execution_count": null,
      "metadata": {
        "colab": {
          "background_save": true
        },
        "id": "CJrf2bWQUjEd"
      },
      "outputs": [],
      "source": [
        "filenamelist2=[]\n",
        "label2=[]\n",
        "for im in os.listdir('/content/drive/MyDrive/intruder_detection/images_of_intruder/outside/'):\n",
        "  image=Image.open('/content/drive/MyDrive/intruder_detection/images_of_intruder/outside/'+im)\n",
        "  resized=image.resize((500,500))\n",
        "  file_path='/content/drive/MyDrive/intruder_detection/resized/outside/'+im\n",
        "  filenamelist2.append(file_path)\n",
        "  label2.append(0)\n",
        "  resized.save(file_path)"
      ]
    },
    {
      "cell_type": "code",
      "execution_count": null,
      "metadata": {
        "colab": {
          "background_save": true
        },
        "id": "_AzzXRX8U_K7"
      },
      "outputs": [],
      "source": [
        "filename=filenamelist+filenamelist2\n",
        "labels=label+label2"
      ]
    },
    {
      "cell_type": "code",
      "execution_count": null,
      "metadata": {
        "colab": {
          "background_save": true
        },
        "id": "XXVYU5vrVLiC"
      },
      "outputs": [],
      "source": [
        "df=pd.DataFrame({'file name':filename,'label':labels})"
      ]
    },
    {
      "cell_type": "code",
      "execution_count": null,
      "metadata": {
        "id": "XL4H5kBwVPvX"
      },
      "outputs": [],
      "source": [
        "df"
      ]
    },
    {
      "cell_type": "code",
      "execution_count": null,
      "metadata": {
        "id": "r5-9yt1fVQtm"
      },
      "outputs": [],
      "source": [
        "df.to_csv('/content/drive/MyDrive/intruder_detection/dataframe.csv',index=False)"
      ]
    },
    {
      "cell_type": "code",
      "execution_count": null,
      "metadata": {
        "id": "Kk5i5coJVdVN"
      },
      "outputs": [],
      "source": [
        "pd.read_csv('/content/drive/MyDrive/intruder_detection/dataframe.csv')"
      ]
    },
    {
      "cell_type": "code",
      "execution_count": null,
      "metadata": {
        "id": "toPHrcGuVjy8"
      },
      "outputs": [],
      "source": []
    }
  ],
  "metadata": {
    "accelerator": "TPU",
    "colab": {
      "provenance": []
    },
    "kernelspec": {
      "display_name": "Python 3",
      "name": "python3"
    },
    "language_info": {
      "name": "python"
    }
  },
  "nbformat": 4,
  "nbformat_minor": 0
}